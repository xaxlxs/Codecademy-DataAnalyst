{
 "cells": [
  {
   "cell_type": "code",
   "execution_count": 1,
   "metadata": {},
   "outputs": [
    {
     "ename": "FileNotFoundError",
     "evalue": "[Errno 2] No such file or directory: '/Resources/insurance.csv'",
     "output_type": "error",
     "traceback": [
      "\u001b[0;31m---------------------------------------------------------------------------\u001b[0m",
      "\u001b[0;31mFileNotFoundError\u001b[0m                         Traceback (most recent call last)",
      "\u001b[1;32m/workspace/Codecademy-DataAnalyst/MedicalInsuranceCosts.ipynb Cell 1'\u001b[0m in \u001b[0;36m<cell line: 11>\u001b[0;34m()\u001b[0m\n\u001b[1;32m      <a href='vscode-notebook-cell://xaxlxs-codecademydataa-6h1y6jtuxxy.ws-us38.gitpod.io/workspace/Codecademy-DataAnalyst/MedicalInsuranceCosts.ipynb#ch0000000vscode-remote?line=8'>9</a>\u001b[0m charges \u001b[39m=\u001b[39m []\n\u001b[1;32m     <a href='vscode-notebook-cell://xaxlxs-codecademydataa-6h1y6jtuxxy.ws-us38.gitpod.io/workspace/Codecademy-DataAnalyst/MedicalInsuranceCosts.ipynb#ch0000000vscode-remote?line=9'>10</a>\u001b[0m \u001b[39mimport\u001b[39;00m \u001b[39mcsv\u001b[39;00m\n\u001b[0;32m---> <a href='vscode-notebook-cell://xaxlxs-codecademydataa-6h1y6jtuxxy.ws-us38.gitpod.io/workspace/Codecademy-DataAnalyst/MedicalInsuranceCosts.ipynb#ch0000000vscode-remote?line=10'>11</a>\u001b[0m \u001b[39mwith\u001b[39;00m \u001b[39mopen\u001b[39;49m(\u001b[39m\"\u001b[39;49m\u001b[39m/Resources/insurance.csv\u001b[39;49m\u001b[39m\"\u001b[39;49m) \u001b[39mas\u001b[39;00m file:\n\u001b[1;32m     <a href='vscode-notebook-cell://xaxlxs-codecademydataa-6h1y6jtuxxy.ws-us38.gitpod.io/workspace/Codecademy-DataAnalyst/MedicalInsuranceCosts.ipynb#ch0000000vscode-remote?line=11'>12</a>\u001b[0m     data \u001b[39m=\u001b[39m csv\u001b[39m.\u001b[39mDictReader(file)\n\u001b[1;32m     <a href='vscode-notebook-cell://xaxlxs-codecademydataa-6h1y6jtuxxy.ws-us38.gitpod.io/workspace/Codecademy-DataAnalyst/MedicalInsuranceCosts.ipynb#ch0000000vscode-remote?line=12'>13</a>\u001b[0m     \u001b[39mfor\u001b[39;00m row \u001b[39min\u001b[39;00m data:\n",
      "\u001b[0;31mFileNotFoundError\u001b[0m: [Errno 2] No such file or directory: '/Resources/insurance.csv'"
     ]
    }
   ],
   "source": [
    "# Import insurance.csv, create lists\n",
    "\n",
    "ages = []\n",
    "sexes = []\n",
    "bmis = []\n",
    "children = []\n",
    "smokers = []\n",
    "regions = []\n",
    "charges = []\n",
    "import csv\n",
    "with open(\"/Resources/insurance.csv\") as file:\n",
    "    data = csv.DictReader(file)\n",
    "    for row in data:\n",
    "        ages.append(row[\"age\"])\n",
    "print(ages)"
   ]
  }
 ],
 "metadata": {
  "interpreter": {
   "hash": "8b8334dab9339717f727a1deaf837b322d7a41c20d15cc86be99a8e69ceec8ce"
  },
  "kernelspec": {
   "display_name": "Python 3.8.12 64-bit ('3.8.12')",
   "language": "python",
   "name": "python3"
  },
  "language_info": {
   "codemirror_mode": {
    "name": "ipython",
    "version": 3
   },
   "file_extension": ".py",
   "mimetype": "text/x-python",
   "name": "python",
   "nbconvert_exporter": "python",
   "pygments_lexer": "ipython3",
   "version": "3.8.12"
  },
  "orig_nbformat": 4
 },
 "nbformat": 4,
 "nbformat_minor": 2
}
