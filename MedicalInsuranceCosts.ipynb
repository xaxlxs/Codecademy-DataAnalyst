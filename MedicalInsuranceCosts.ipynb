{
 "cells": [
  {
   "cell_type": "code",
   "execution_count": 3,
   "metadata": {},
   "outputs": [
    {
     "name": "stdout",
     "output_type": "stream",
     "text": [
      "[]\n",
      "   age     sex     bmi  children smoker     region      charges\n",
      "0   19  female  27.900         0    yes  southwest  16884.92400\n",
      "1   18    male  33.770         1     no  southeast   1725.55230\n",
      "2   28    male  33.000         3     no  southeast   4449.46200\n",
      "3   33    male  22.705         0     no  northwest  21984.47061\n",
      "4   32    male  28.880         0     no  northwest   3866.85520\n"
     ]
    }
   ],
   "source": [
    "# Import insurance.csv, create lists\n",
    "\n",
    "ages = []\n",
    "sexes = []\n",
    "bmis = []\n",
    "children = []\n",
    "smokers = []\n",
    "regions = []\n",
    "charges = []\n",
    "import csv\n",
    "import pandas as pd\n",
    "\n",
    "# Write a cleaner solution\n",
    "\n",
    "# with open(\"Resources/insurance.csv\") as file:\n",
    "#     data = csv.DictReader(file)\n",
    "#     for row in data:\n",
    "#         ages.append(row[\"age\"])\n",
    "#         sexes.append(row[\"sex\"])\n",
    "#         bmis.append(row[\"bmi\"])\n",
    "#         children.append(row[\"children\"])\n",
    "#         smokers.append(row[\"smoker\"])\n",
    "#         regions.append(row[\"region\"])\n",
    "#         charges.append(row[\"charges\"])\n",
    "print(ages)\n",
    "\n",
    "insurance_data = pd.read_csv('Resources/insurance.csv')\n",
    "print(insurance_data.head())"
   ]
  }
 ],
 "metadata": {
  "interpreter": {
   "hash": "8b8334dab9339717f727a1deaf837b322d7a41c20d15cc86be99a8e69ceec8ce"
  },
  "kernelspec": {
   "display_name": "Python 3.8.12 64-bit ('3.8.12')",
   "language": "python",
   "name": "python3"
  },
  "language_info": {
   "codemirror_mode": {
    "name": "ipython",
    "version": 3
   },
   "file_extension": ".py",
   "mimetype": "text/x-python",
   "name": "python",
   "nbconvert_exporter": "python",
   "pygments_lexer": "ipython3",
   "version": "3.8.12"
  },
  "orig_nbformat": 4
 },
 "nbformat": 4,
 "nbformat_minor": 2
}
