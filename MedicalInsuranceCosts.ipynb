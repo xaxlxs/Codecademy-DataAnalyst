{
 "cells": [
  {
   "cell_type": "markdown",
   "metadata": {},
   "source": [
    "# U.S. Medical Insurance Costs\n",
    "\n",
    "This is an analysis of the U.S Medical Insurance Costs \"insurance.csv\" from https://www.kaggle.com/mirichoi0218/insurance using python.\n",
    "\n",
    "## Getting Started\n",
    "The first thing I do is import the modules I will need. For this project I will use pandas to simplify importing and analyzing the data.\n",
    "\n",
    "Then I create a data frame and print a sample so I can familiarize myself with the data and layout."
   ]
  },
  {
   "cell_type": "code",
   "execution_count": null,
   "metadata": {},
   "outputs": [],
   "source": [
    "# Import insurance.csv, create a data frame and print a sample.\n",
    "\n",
    "import pandas as pd\n",
    "\n",
    "insurance_data = pd.read_csv('Resources/insurance.csv')\n",
    "print(insurance_data.head())"
   ]
  },
  {
   "cell_type": "markdown",
   "metadata": {},
   "source": [
    "## Deciding What to Analyze\n",
    "\n",
    "Looking at the sample, I see there are seven fields:\n",
    "1. age\n",
    "2. sex\n",
    "3. bmi\n",
    "4. children\n",
    "5. smoker\n",
    "6. region\n",
    "7. charges\n",
    "\n",
    "Based off that information, I thought the below would be interesting analyses:\n",
    "* Average age of male vs. female\n",
    "* Average smoker age\n",
    "* Average cost by sex and the difference\n",
    "* Average age of patients with at least one child\n",
    "* Percentage of male vs. female\n",
    "* Percentage of male vs. female smokers\n",
    "* Percentage of male vs. female with at least one child\n",
    "* Percentage of smokers with children vs. without children\n",
    "* Percentage of smokers by region\n",
    "\n",
    "## Structuring the data\n",
    "### Create a PatientInfo class with the data and methods\n",
    "All values are rounded to 2 decimal places for readability."
   ]
  },
  {
   "cell_type": "markdown",
   "metadata": {},
   "source": [
    "# Notes\n",
    "* how smoking affects cost = cost for smokers vs non smokers and percent difference.\n",
    "* how does sex affect cost\n",
    "* how is cost affected by region\n",
    "* how does bmi affect cost\n",
    "* Are patients with children more or less likely to smoke by sex?\n",
    "* Are \n",
    "\n",
    "## Overall stats:\n",
    "* Min/max ages\n",
    "* Min/max costs\n",
    "\n",
    "* Create a pivot table to show some of the analyses/stats."
   ]
  },
  {
   "cell_type": "code",
   "execution_count": null,
   "metadata": {},
   "outputs": [],
   "source": [
    "# Create a class to hold the data.\n",
    "class PatientInfo():\n",
    "    def __init__(self, dataframe):\n",
    "        self.dataframe = dataframe\n",
    "\n",
    "# Create methods to interact with the data.\n",
    "# Method to return average ages by sex and the difference.\n",
    "    def avg_age_by_sex(self):\n",
    "        average = round(self.dataframe.age.mean(), 2)\n",
    "        male = round(self.dataframe[self.dataframe.sex=='male'].age.mean(), 2)\n",
    "        female = round(self.dataframe[self.dataframe.sex=='female'].age.mean(), 2)\n",
    "        difference = round(male - female, 2)\n",
    "        print(\"The average age of users is {average}. \\nThe average age of males is {male}. \\nThe average age of females is {female}. \\nThe difference between male and females average ages is {difference}.\".format(average=average, male=male, female=female, difference=difference))\n",
    "\n",
    "# Method to return the average ages of smokers by sex and the difference.\n",
    "    def avg_smoker_age(self):\n",
    "        average = round(self.dataframe[self.dataframe.smoker=='yes'].age.mean(), 2)\n",
    "        male = round(self.dataframe[self.dataframe.sex=='male'].age.mean(), 2)\n",
    "        female = round(self.dataframe[self.dataframe.sex=='female'].age.mean(), 2)\n",
    "        difference = round(male-female, 2)\n",
    "        print(\"The average age of smokers is {average}. \\nThe average age of male smokers is {male}. \\nThe average age of female smokers is {female}. \\nThe difference between male and females smoker average ages is {difference}.\".format(average=average, male=male, female=female, difference=difference))\n",
    "\n",
    "# Method to return average cost by sex and the difference.\n",
    "    def avg_cost(self):\n",
    "        average = round(self.dataframe.charges.mean(), 2)\n",
    "        male = round(self.dataframe[self.dataframe.sex=='male'].charges.mean(), 2)\n",
    "        female = round(self.dataframe[self.dataframe.sex=='female'].charges.mean(), 2)\n",
    "        difference = round(male-female, 2)\n",
    "        print(\"The average cost is {average}. \\nThe average cost for males is {male}. \\nThe average cost for females is {female}. \\nThe difference between male and females average cost is {difference}.\".format(average=average, male=male, female=female, difference=difference))\n",
    "\n",
    "# Method to return the average of patients with at least one child by sex and the difference.\n",
    "    def avg_age_parents(self):\n",
    "        average = round(self.dataframe[self.dataframe.children>=1].age.mean(), 2)\n",
    "        male = round(self.dataframe[self.dataframe.sex=='male'].age.mean(), 2)\n",
    "        female = round(self.dataframe[self.dataframe.sex=='female'].age.mean(), 2)\n",
    "        difference = round(male-female, 2)\n",
    "        print(\"The average age of parents is {average}. \\nThe average age of male parents is {male}. \\nThe average of female parents is {female}. \\nThe difference between male and female parents average age is {difference}.\".format(average=average, male=male, female=female, difference=difference))\n",
    "\n",
    "# Method to return the percentage of male vs. female and the difference.\n",
    "    def percent_by_sex(self):\n",
    "        male = round(self.dataframe[self.dataframe.sex=='male'].age.count() / self.dataframe.age.count(), 2)\n",
    "        female = round(self.dataframe[self.dataframe.sex=='female'].age.count() / self.dataframe.age.count(), 2)\n",
    "        difference = round(male-female, 2)\n",
    "        print(\"The percentage of male patients is {male}. \\nThe percentage of female patients is {female}. \\nThe difference between the percentage of male and female patients is {difference}.\".format(male=male, female=female, difference=difference))\n",
    "\n",
    "# Method to return the percentage of male vs. female smokers and the difference.\n",
    "    def percent_smokers_by_sex(self):\n",
    "        percent = round(self.dataframe[self.dataframe.smoker=='yes'].age.count() / self.dataframe.age.count(), 2)\n",
    "        male = round(self.dataframe[(self.dataframe.sex=='male') & (self.dataframe.smoker=='yes')].age.count() / self.dataframe[self.dataframe.sex=='male'].age.count(), 2)\n",
    "        female = round(self.dataframe[(self.dataframe.sex=='female') & (self.dataframe.smoker==\"yes\")].age.count() / self.dataframe[self.dataframe.sex=='female'].age.count(), 2)\n",
    "        difference = round(male-female, 2)\n",
    "        print(\"The percentage of patients who smoke is {percent}. \\nThe percentage of males who smoke is {male}. \\nThe percentage of females who smoke is {female}. \\nThe difference between the percentage of male and female smokers is {difference}.\".format(percent=percent, male=male, female=female, difference=difference))\n",
    "\n",
    "# Method to return the percentage of patients with at least one child by sex and the difference.\n",
    "    def percent_parents_by_sex(self):\n",
    "        percent = round(self.dataframe[self.dataframe.children>=1].age.count() / self.dataframe.age.count(), 2)\n",
    "        male = round(self.dataframe[(self.dataframe.sex=='male') & (self.dataframe.children>=1)].age.count() / self.dataframe[self.dataframe.sex=='male'].age.count(), 2)\n",
    "        female = round(self.dataframe[(self.dataframe.sex=='female') & (self.dataframe.children>=1)].age.count() / self.dataframe[self.dataframe.sex=='female'].age.count(), 2)\n",
    "        difference = round(male-female, 2)\n",
    "        print(\"The percentage of patients with at least one child is {percent}. \\nThe percentage of males with at least one child is {male}. \\nThe percentage of females with at least one child is {female}. \\nThe difference between the percentage of males and females with at least one child is {difference}.\".format(percent=percent, male=male, female=female, difference=difference))\n",
    "\n",
    "# Percentage of smokers with children vs. without children\n",
    "    def smokers_with_children(self):\n",
    "        percent = round(self.dataframe[(self.dataframe.smoker=='yes') & (self.dataframe.children>=1)].age.count() / self.dataframe[self.dataframe.children>=1].age.count(), 2)\n",
    "        male = round(self.dataframe[(self.dataframe.sex=='male') & (self.dataframe.smoker=='yes') & (self.dataframe.children>=1)].age.count() / self.dataframe[(self.dataframe.sex=='male') & (self.dataframe.children>=1)].age.count(), 2)\n",
    "        female = round(self.dataframe[(self.dataframe.sex=='female') & (self.dataframe.smoker=='yes') & (self.dataframe.children>=1)].age.count() / self.dataframe[(self.dataframe.sex=='female') & (self.dataframe.children>=1)].age.count(), 2)\n",
    "        difference = round(male-female, 2)\n",
    "        print(\"The percent of parents who smoke is {percent}. \\nThe percent of male parents who smoke is {male}. \\nThe percent of female parents who smoke is {female}. \\nThe difference in the percentage of male vs female parents who somke is {difference}\".format(percent=percent, male=male, female=female, difference=difference))\n",
    "\n",
    "# Method to return the percentage of patients who smoke by region.\n",
    "    def percent_smokers_by_region(self):\n",
    "        southwest = round(self.dataframe[(self.dataframe.smoker=='yes') & (self.dataframe.region=='southwest')].age.count() / self.dataframe[self.dataframe.region=='southwest'].age.count(), 2)\n",
    "        southeast = round(self.dataframe[(self.dataframe.smoker=='yes') & (self.dataframe.region=='southeast')].age.count() / self.dataframe[self.dataframe.region=='southeast'].age.count(), 2)\n",
    "        northwest = round(self.dataframe[(self.dataframe.smoker=='yes') & (self.dataframe.region=='northwest')].age.count() / self.dataframe[self.dataframe.region=='northwest'].age.count(), 2)\n",
    "        northeast = round(self.dataframe[(self.dataframe.smoker=='yes') & (self.dataframe.region=='northeast')].age.count() / self.dataframe[self.dataframe.region=='northeast'].age.count(), 2)\n",
    "        print(\"The percent of patients who smoke by region are \\nSouthwest: {sw} \\nSoutheast: {se} \\nNorthwest: {nw} \\nNortheast: {ne}\".format(sw=southwest, se=southeast, nw=northwest, ne=northeast))\n",
    "\n",
    "# Instantiate the PatientInfo class as patient_info.\n",
    "patient_info = PatientInfo(insurance_data)"
   ]
  },
  {
   "cell_type": "markdown",
   "metadata": {},
   "source": [
    "## Analysis Functions\n",
    "Run each cell to see the results of the analysis. \n",
    "\n",
    "These methods are built within the class."
   ]
  },
  {
   "cell_type": "code",
   "execution_count": null,
   "metadata": {},
   "outputs": [],
   "source": [
    "# Average Ages by Sex\n",
    "patient_info.avg_age_by_sex()"
   ]
  },
  {
   "cell_type": "code",
   "execution_count": null,
   "metadata": {},
   "outputs": [],
   "source": [
    "# Average Age of Smokers by Sex\n",
    "patient_info.avg_smoker_age()"
   ]
  },
  {
   "cell_type": "code",
   "execution_count": null,
   "metadata": {},
   "outputs": [],
   "source": [
    "# Average Cost by Sex\n",
    "patient_info.avg_cost()"
   ]
  },
  {
   "cell_type": "code",
   "execution_count": null,
   "metadata": {},
   "outputs": [],
   "source": [
    "# Average Age of Parents With At Least One Child\n",
    "patient_info.avg_age_parents()"
   ]
  },
  {
   "cell_type": "code",
   "execution_count": null,
   "metadata": {},
   "outputs": [],
   "source": [
    "# Percent of Patients by Sex\n",
    "patient_info.percent_by_sex()"
   ]
  },
  {
   "cell_type": "code",
   "execution_count": null,
   "metadata": {},
   "outputs": [],
   "source": [
    "# Percent of Patients Who Smoke by Sex\n",
    "patient_info.percent_smokers_by_sex()"
   ]
  },
  {
   "cell_type": "code",
   "execution_count": null,
   "metadata": {},
   "outputs": [],
   "source": [
    "# Percent of Parents by Sex\n",
    "patient_info.percent_parents_by_sex()"
   ]
  },
  {
   "cell_type": "code",
   "execution_count": null,
   "metadata": {},
   "outputs": [],
   "source": [
    "# Percent of Parents Who Smoke by Sex\n",
    "patient_info.smokers_with_children()"
   ]
  },
  {
   "cell_type": "code",
   "execution_count": null,
   "metadata": {},
   "outputs": [],
   "source": [
    "# Percent of Smokers by Region\n",
    "patient_info.percent_smokers_by_region()"
   ]
  },
  {
   "cell_type": "markdown",
   "metadata": {},
   "source": [
    "These functions are not build within the class."
   ]
  },
  {
   "cell_type": "code",
   "execution_count": null,
   "metadata": {},
   "outputs": [],
   "source": [
    "# Summary of the Data\n",
    "def summarize():\n",
    "    patients = patient_info.dataframe.age.count()\n",
    "    min_age = patient_info.dataframe.age.min()\n",
    "    max_age = patient_info.dataframe.age.max()\n",
    "    avg_age = patient_info.dataframe.age.mean()\n",
    "    min_charges = patient_info.dataframe.charges.min()\n",
    "    max_charges = patient_info.dataframe.charges.max()\n",
    "    avg_charges = patient_info.dataframe.charges.mean()\n",
    "    total_charges = patient_info.dataframe.charges.sum()\n",
    "    percent_smoker = patient_info.dataframe[patient_info.dataframe.smoker=='yes'].age.count() / patient_info.dataframe.age.count()\n",
    "    print(\"There are a total of {patients} patients in the file, ranging in age from {min_age} to {max_age}, with an average of {avg_age}.\".format(patients=patients, min_age=min_age, max_age=max_age, avg_age=round(avg_age, 2)))\n",
    "    print(\"Their medical charges range from {min_charges} to {max_charges}, with an average of {avg_charges}, and a total of {total_charges}.\".format(min_charges=round(min_charges, 2), max_charges=round(max_charges, 2), avg_charges=round(avg_charges, 2), total_charges=round(total_charges, 2)))\n",
    "    print(\"The percentage of patients who smoke is {percent_smoker}%\".format(percent_smoker=round(percent_smoker, 2)*100))\n",
    "summarize()"
   ]
  },
  {
   "cell_type": "markdown",
   "metadata": {},
   "source": [
    "Patient count\n",
    "Min/max: age, bmi, charges\n",
    "Percent smokers\n",
    "Average number children"
   ]
  }
 ],
 "metadata": {
  "interpreter": {
   "hash": "8b8334dab9339717f727a1deaf837b322d7a41c20d15cc86be99a8e69ceec8ce"
  },
  "kernelspec": {
   "display_name": "Python 3.8.12 64-bit ('3.8.12')",
   "language": "python",
   "name": "python3"
  },
  "language_info": {
   "codemirror_mode": {
    "name": "ipython",
    "version": 3
   },
   "file_extension": ".py",
   "mimetype": "text/x-python",
   "name": "python",
   "nbconvert_exporter": "python",
   "pygments_lexer": "ipython3",
   "version": "3.8.12"
  },
  "orig_nbformat": 4
 },
 "nbformat": 4,
 "nbformat_minor": 2
}
