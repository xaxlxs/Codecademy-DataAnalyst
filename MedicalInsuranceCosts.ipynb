{
 "cells": [
  {
   "cell_type": "markdown",
   "metadata": {},
   "source": [
    "# U.S. Medical Insurance Costs\n",
    "\n",
    "This is an analysis of the U.S Medical Insurance Costs \"insurance.csv\" from https://www.kaggle.com/mirichoi0218/insurance using python.\n",
    "\n",
    "## Getting Started\n",
    "The first thing I do is import the modules I will need. For this project I will use pandas to simplify importing and analyzing the data.\n",
    "\n",
    "Then I create a data frame and print a sample so I can familiarize myself with the data and layout."
   ]
  },
  {
   "cell_type": "code",
   "execution_count": 3,
   "metadata": {},
   "outputs": [
    {
     "name": "stdout",
     "output_type": "stream",
     "text": [
      "[]\n",
      "   age     sex     bmi  children smoker     region      charges\n",
      "0   19  female  27.900         0    yes  southwest  16884.92400\n",
      "1   18    male  33.770         1     no  southeast   1725.55230\n",
      "2   28    male  33.000         3     no  southeast   4449.46200\n",
      "3   33    male  22.705         0     no  northwest  21984.47061\n",
      "4   32    male  28.880         0     no  northwest   3866.85520\n"
     ]
    }
   ],
   "source": [
    "# Import insurance.csv, create a data frame and print a sample.\n",
    "\n",
    "import pandas as pd\n",
    "\n",
    "insurance_data = pd.read_csv('Resources/insurance.csv')\n",
    "print(insurance_data.head())"
   ]
  },
  {
   "cell_type": "markdown",
   "metadata": {},
   "source": [
    "## Deciding What to Analyze\n",
    "\n",
    "Looking at the sample, we see there are seven fields:\n",
    "1. age\n",
    "2. sex\n",
    "3. bmi\n",
    "4. children\n",
    "5. smoker\n",
    "6. region\n",
    "7. charges\n",
    "\n",
    "Based off that information, some interesting things to analyze would be:\n",
    "* Average age of male vs. female\n",
    "* Average smoker age\n",
    "* Average cost by sex and the difference\n",
    "* Average age of patients with at least one child\n",
    "* Percentage of male vs. female\n",
    "* Percentage of male vs. female smokers\n",
    "* Percentage of male vs. female with at least one child\n",
    "* Percentage of smokers with children vs. without children\n",
    "* Percentage of smokers by region"
   ]
  }
 ],
 "metadata": {
  "interpreter": {
   "hash": "8b8334dab9339717f727a1deaf837b322d7a41c20d15cc86be99a8e69ceec8ce"
  },
  "kernelspec": {
   "display_name": "Python 3.8.12 64-bit ('3.8.12')",
   "language": "python",
   "name": "python3"
  },
  "language_info": {
   "codemirror_mode": {
    "name": "ipython",
    "version": 3
   },
   "file_extension": ".py",
   "mimetype": "text/x-python",
   "name": "python",
   "nbconvert_exporter": "python",
   "pygments_lexer": "ipython3",
   "version": "3.8.12"
  },
  "orig_nbformat": 4
 },
 "nbformat": 4,
 "nbformat_minor": 2
}
